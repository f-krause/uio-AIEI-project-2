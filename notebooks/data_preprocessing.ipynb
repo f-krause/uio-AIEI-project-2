{
 "cells": [
  {
   "cell_type": "code",
   "execution_count": 3,
   "metadata": {
    "ExecuteTime": {
     "end_time": "2023-10-27T09:05:12.441704700Z",
     "start_time": "2023-10-27T09:05:09.988849400Z"
    }
   },
   "outputs": [],
   "source": [
    "import pandas as pd, numpy as np\n",
    "from tqdm import tqdm\n",
    "from sklearn.model_selection import train_test_split"
   ]
  },
  {
   "cell_type": "code",
   "execution_count": 4,
   "metadata": {
    "ExecuteTime": {
     "end_time": "2023-10-27T09:05:14.916416900Z",
     "start_time": "2023-10-27T09:05:13.578496100Z"
    }
   },
   "outputs": [],
   "source": [
    "# NB: this requires openpyxl to be installed\n",
    "xl = pd.ExcelFile(\"../data/Dataset.xlsx\")\n",
    "# extract sheets that start with consumer\n",
    "consumer_sheets = [name for name in xl.sheet_names\n",
    "                   if name.startswith(\"Consumer\")]\n",
    "# TODO: take all consumer sheets, not only the first 10 (= delete next line)\n",
    "#consumer_sheets = consumer_sheets[:20]"
   ]
  },
  {
   "cell_type": "code",
   "execution_count": 5,
   "metadata": {
    "ExecuteTime": {
     "end_time": "2023-10-27T09:09:39.794765600Z",
     "start_time": "2023-10-27T09:05:16.791220Z"
    }
   },
   "outputs": [
    {
     "name": "stderr",
     "output_type": "stream",
     "text": [
      "100%|██████████| 50/50 [04:22<00:00,  5.26s/it]\n"
     ]
    }
   ],
   "source": [
    "# mapping consumer to DataFrame containing tabular data\n",
    "cons2df = {name: xl.parse(name).drop(columns=[\"Unnamed: 0\",\"Total Consumption\"])\n",
    "           for name in tqdm(consumer_sheets)}"
   ]
  },
  {
   "cell_type": "markdown",
   "metadata": {},
   "source": [
    "### Creation of dataset for task 1"
   ]
  },
  {
   "cell_type": "code",
   "execution_count": 6,
   "metadata": {
    "ExecuteTime": {
     "end_time": "2023-10-27T09:10:09.348965900Z",
     "start_time": "2023-10-27T09:10:08.465985500Z"
    }
   },
   "outputs": [],
   "source": [
    "# sum over all columns that are not Periods (which is at index 0)\n",
    "sum_cols = cons2df[\"Consumer1\"].columns[1:].tolist()\n",
    "for name, df in cons2df.items():\n",
    "    df[\"Total Consumption\"] = df[sum_cols].sum(axis=1)"
   ]
  },
  {
   "cell_type": "code",
   "execution_count": 25,
   "metadata": {
    "ExecuteTime": {
     "end_time": "2023-10-27T10:11:59.205713600Z",
     "start_time": "2023-10-27T10:11:57.377371500Z"
    }
   },
   "outputs": [
    {
     "data": {
      "text/plain": "((359, 50, 7), (359, 50))"
     },
     "execution_count": 25,
     "metadata": {},
     "output_type": "execute_result"
    }
   ],
   "source": [
    "# constants based on 15min intervals\n",
    "day_length = 4 * 24\n",
    "week_window = day_length * 7\n",
    "\n",
    "# iterate over DataFrames and extract x = week -> y = next day pairs\n",
    "xs, ys = [], []\n",
    "for df in cons2df.values():\n",
    "  # extract the total consumption data from the dataset\n",
    "  data = df[\"Total Consumption\"].values\n",
    "\n",
    "  # obtain start and end values of the window\n",
    "  # NB: the window end includes the day to be predicted\n",
    "  starts = np.arange(0, len(data) - week_window - day_length + 1, day_length)\n",
    "  ends = starts + week_window + day_length # end includes the day to predict\n",
    "  cons_xs, cons_ys = [], [] # save data for this consumer\n",
    "  for start, end in zip(starts, ends):\n",
    "    # extract the 8-day window from the dataset\n",
    "    window = data[start:end]\n",
    "    # split the window in week data and the day to predict\n",
    "    x, y = window[:-day_length], window[-day_length:]\n",
    "    # put the samples in the dataset\n",
    "    x_days = 0\n",
    "    # get the consumption per day\n",
    "    week = []\n",
    "    for i in range(0, len(x), day_length):\n",
    "      values = x[i:i+day_length]\n",
    "      week.append(sum(values))\n",
    "    cons_xs.append(week)\n",
    "    cons_ys.append(sum(y))\n",
    "  assert end == len(data) # ensure that we covered all of the input data\n",
    "  xs.append(np.stack(cons_xs))\n",
    "  ys.append(np.stack(cons_ys))\n",
    "# create length dimension\n",
    "xs, ys = np.stack(xs), np.stack(ys)\n",
    "# swap day (=N) and household dimensions such that we can sample days for\n",
    "# dataset creation\n",
    "xs = xs.transpose(1, 0, 2)\n",
    "ys = ys.transpose(1, 0)\n",
    "xs.shape, ys.shape"
   ]
  },
  {
   "cell_type": "code",
   "execution_count": 26,
   "metadata": {
    "ExecuteTime": {
     "end_time": "2023-10-27T10:12:04.237935500Z",
     "start_time": "2023-10-27T10:12:04.223993300Z"
    }
   },
   "outputs": [],
   "source": [
    "# generate train/validation/test splits with 80/10/10 ratio\n",
    "xtr, xvalte, ytr, yvalte = train_test_split(xs, ys, test_size=.2, shuffle=False)\n",
    "xval, xte, yval, yte = train_test_split(xvalte, yvalte, test_size=.5, shuffle=False)\n",
    "xtr = xtr.transpose(1, 0, 2)\n",
    "ytr = ytr.transpose(1, 0)\n",
    "xval = xval.transpose(1, 0, 2)\n",
    "yval = yval.transpose(1, 0)\n",
    "xte = xte.transpose(1, 0, 2)\n",
    "yte = yte.transpose(1, 0)\n",
    "xs = xs.transpose(1, 0, 2)\n",
    "ys = ys.transpose(1, 0)"
   ]
  },
  {
   "cell_type": "code",
   "execution_count": 27,
   "outputs": [],
   "source": [
    "np.savez(\"../data/task1_train\", x=xtr, y=ytr)\n",
    "np.savez(\"../data/task1_val\", x=xval, y=yval)\n",
    "np.savez(\"../data/task1_test\", x=xte, y=yte)\n",
    "np.savez(\"../data/task1_data\", x=xs, y=ys)"
   ],
   "metadata": {
    "collapsed": false,
    "ExecuteTime": {
     "end_time": "2023-10-27T10:12:06.259748700Z",
     "start_time": "2023-10-27T10:12:06.248580500Z"
    }
   }
  }
 ],
 "metadata": {
  "kernelspec": {
   "display_name": "ai4ei",
   "language": "python",
   "name": "python3"
  },
  "language_info": {
   "codemirror_mode": {
    "name": "ipython",
    "version": 3
   },
   "file_extension": ".py",
   "mimetype": "text/x-python",
   "name": "python",
   "nbconvert_exporter": "python",
   "pygments_lexer": "ipython3",
   "version": "3.11.5"
  }
 },
 "nbformat": 4,
 "nbformat_minor": 2
}

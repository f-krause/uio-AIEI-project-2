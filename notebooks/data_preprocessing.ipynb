{
 "cells": [
  {
   "cell_type": "code",
   "execution_count": 115,
   "metadata": {},
   "outputs": [],
   "source": [
    "import pandas as pd, numpy as np\n",
    "from tqdm import tqdm\n",
    "from sklearn.model_selection import train_test_split"
   ]
  },
  {
   "cell_type": "code",
   "execution_count": 112,
   "metadata": {},
   "outputs": [],
   "source": [
    "# NB: this requires openpyxl to be installed\n",
    "xl = pd.ExcelFile(\"../data/Dataset.xlsx\")\n",
    "# extract sheets that start with consumer\n",
    "consumer_sheets = [name for name in xl.sheet_names\n",
    "                   if name.startswith(\"Consumer\")]\n",
    "# TODO: take all consumer sheets, not only the first 10 (= delete next line)\n",
    "consumer_sheets = consumer_sheets[:20]"
   ]
  },
  {
   "cell_type": "code",
   "execution_count": 113,
   "metadata": {},
   "outputs": [
    {
     "name": "stderr",
     "output_type": "stream",
     "text": [
      "100%|██████████| 20/20 [01:29<00:00,  4.48s/it]\n"
     ]
    }
   ],
   "source": [
    "# mapping consumer to DataFrame containing tabular data\n",
    "cons2df = {name: xl.parse(name).drop(columns=[\"Unnamed: 0\",\"Total Consumption\"])\n",
    "           for name in tqdm(consumer_sheets)}"
   ]
  },
  {
   "cell_type": "markdown",
   "metadata": {},
   "source": [
    "### Creation of dataset for task 1"
   ]
  },
  {
   "cell_type": "code",
   "execution_count": 116,
   "metadata": {},
   "outputs": [],
   "source": [
    "# sum over all columns that are not Periods (which is at index 0)\n",
    "sum_cols = cons2df[\"Consumer1\"].columns[1:].tolist()\n",
    "for name, df in cons2df.items():\n",
    "    df[\"Total Consumption\"] = df[sum_cols].sum(axis=1)"
   ]
  },
  {
   "cell_type": "code",
   "execution_count": 117,
   "metadata": {},
   "outputs": [
    {
     "data": {
      "text/plain": [
       "((7180, 672), (7180, 96))"
      ]
     },
     "execution_count": 117,
     "metadata": {},
     "output_type": "execute_result"
    }
   ],
   "source": [
    "# constants based on 15min intervals\n",
    "day_length = 4 * 24\n",
    "week_window = day_length * 7\n",
    "\n",
    "# iterate over DataFrames and extract x = week -> y = next day pairs\n",
    "xs, ys = [], []\n",
    "for df in cons2df.values():\n",
    "  # extract the total consumption data from the dataset\n",
    "  data = df[\"Total Consumption\"].values\n",
    "\n",
    "  # obtain start and end values of the window\n",
    "  # NB: the window end includes the day to be predicted\n",
    "  starts = np.arange(0, len(data) - week_window - day_length + 1, day_length)\n",
    "  ends = starts + week_window + day_length # end includes the day to predict\n",
    "  for start, end in zip(starts, ends):\n",
    "    # extract the 8-day window from the dataset\n",
    "    window = data[start:end]\n",
    "    # split the window in week data and the day to predict\n",
    "    x, y = window[:-day_length], window[-day_length:]\n",
    "    # put the samples in the dataset\n",
    "    xs.append(x)\n",
    "    ys.append(y)\n",
    "  assert end == len(data) # ensure that we covered all of the input data\n",
    "\n",
    "# create length dimension\n",
    "xs, ys = np.stack(xs), np.stack(ys)\n",
    "xs.shape, ys.shape"
   ]
  },
  {
   "cell_type": "code",
   "execution_count": 118,
   "metadata": {},
   "outputs": [],
   "source": [
    "# generate train/test splits and save data\n",
    "xtr, xte, ytr, yte = train_test_split(xs, ys, test_size=.1, random_state=42)\n",
    "np.savez(\"../data/task1_train\", x=xtr, y=ytr)\n",
    "np.savez(\"../data/task1_test\", x=xte, y=yte)"
   ]
  }
 ],
 "metadata": {
  "kernelspec": {
   "display_name": "ai4ei",
   "language": "python",
   "name": "python3"
  },
  "language_info": {
   "codemirror_mode": {
    "name": "ipython",
    "version": 3
   },
   "file_extension": ".py",
   "mimetype": "text/x-python",
   "name": "python",
   "nbconvert_exporter": "python",
   "pygments_lexer": "ipython3",
   "version": "3.11.5"
  }
 },
 "nbformat": 4,
 "nbformat_minor": 2
}

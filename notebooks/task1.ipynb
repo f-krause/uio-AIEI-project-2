{
 "cells": [
  {
   "cell_type": "code",
   "execution_count": 2,
   "metadata": {},
   "outputs": [],
   "source": [
    "import numpy as np, torch"
   ]
  },
  {
   "cell_type": "code",
   "execution_count": 5,
   "metadata": {},
   "outputs": [],
   "source": [
    "train, val, test = (np.load(\"../data/task1_%s.npz\" % f) \n",
    "                    for f in (\"train\", \"val\", \"test\"))\n",
    "xtr, ytr, xval, yval, xte, yte = (\n",
    "  torch.from_numpy(arr)\n",
    "  for arr in (train[\"x\"], train[\"y\"], val[\"x\"], val[\"y\"], test[\"x\"], test[\"y\"])\n",
    ")"
   ]
  },
  {
   "cell_type": "code",
   "execution_count": null,
   "metadata": {},
   "outputs": [],
   "source": []
  }
 ],
 "metadata": {
  "kernelspec": {
   "display_name": "ai4ei",
   "language": "python",
   "name": "python3"
  },
  "language_info": {
   "codemirror_mode": {
    "name": "ipython",
    "version": 3
   },
   "file_extension": ".py",
   "mimetype": "text/x-python",
   "name": "python",
   "nbconvert_exporter": "python",
   "pygments_lexer": "ipython3",
   "version": "3.11.5"
  }
 },
 "nbformat": 4,
 "nbformat_minor": 2
}

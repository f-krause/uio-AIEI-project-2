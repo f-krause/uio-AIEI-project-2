{
 "cells": [
  {
   "cell_type": "code",
   "execution_count": 50,
   "metadata": {},
   "outputs": [],
   "source": [
    "import numpy as np\n",
    "import torch, torch.nn as nn, torch.nn.functional as F, torch.optim as optim\n",
    "import matplotlib.pyplot as plt\n",
    "from tqdm import trange"
   ]
  },
  {
   "cell_type": "code",
   "execution_count": 19,
   "metadata": {},
   "outputs": [],
   "source": [
    "train, val, test = (np.load(\"../data/task1_%s.npz\" % f) \n",
    "                    for f in (\"train\", \"val\", \"test\"))\n",
    "xtr, ytr, xval, yval, xte, yte = (\n",
    "  torch.from_numpy(arr).float()\n",
    "  for arr in (train[\"x\"], train[\"y\"], val[\"x\"], val[\"y\"], test[\"x\"], test[\"y\"])\n",
    ")"
   ]
  },
  {
   "cell_type": "code",
   "execution_count": 38,
   "metadata": {},
   "outputs": [],
   "source": [
    "# N: number of training samples\n",
    "# Nh: number of households\n",
    "# Tin: number of time steps in each window\n",
    "# Tout: number of time steps in each output\n",
    "N, Nh, Tin, Tout = *xtr.shape, ytr.shape[-1]"
   ]
  },
  {
   "cell_type": "code",
   "execution_count": 71,
   "metadata": {},
   "outputs": [],
   "source": [
    "class Mlp(nn.Module):\n",
    "  def __init__(self, input_size, hidden_size, output_size):\n",
    "    super().__init__()\n",
    "    self.fc1 = nn.Linear(input_size, hidden_size)\n",
    "    self.fc2 = nn.Linear(hidden_size, output_size)\n",
    "  def forward(self, x):\n",
    "    x = F.relu(self.fc1(x))\n",
    "    x = self.fc2(x)\n",
    "    return x\n",
    "  \n",
    "class LSTMModel(nn.Module):\n",
    "    \"\"\"LSTMModel class extends nn.Module class and works as a constructor for LSTMs.\n",
    "\n",
    "       LSTMModel class initiates a LSTM module based on PyTorch's nn.Module class.\n",
    "       It has only two methods, namely init() and forward(). While the init()\n",
    "       method initiates the model with the given input parameters, the forward()\n",
    "       method defines how the forward propagation needs to be calculated.\n",
    "       Since PyTorch automatically defines back propagation, there is no need\n",
    "       to define back propagation method.\n",
    "\n",
    "       Attributes:\n",
    "           hidden_dim (int): The number of nodes in each layer\n",
    "           layer_dim (str): The number of layers in the network\n",
    "           lstm (nn.LSTM): The LSTM model constructed with the input parameters.\n",
    "           fc (nn.Linear): The fully connected layer to convert the final state\n",
    "                           of LSTMs to our desired output shape.\n",
    "\n",
    "    \"\"\"\n",
    "    def __init__(self, input_dim, hidden_dim, layer_dim, output_dim, dropout_prob):\n",
    "        \"\"\"The __init__ method that initiates a LSTM instance.\n",
    "\n",
    "        Args:\n",
    "            input_dim (int): The number of nodes in the input layer\n",
    "            hidden_dim (int): The number of nodes in each layer\n",
    "            layer_dim (int): The number of layers in the network\n",
    "            output_dim (int): The number of nodes in the output layer\n",
    "            dropout_prob (float): The probability of nodes being dropped out\n",
    "\n",
    "        \"\"\"\n",
    "        super(LSTMModel, self).__init__()\n",
    "\n",
    "        # Defining the number of layers and the nodes in each layer\n",
    "        self.hidden_dim = hidden_dim\n",
    "        self.layer_dim = layer_dim\n",
    "\n",
    "        # LSTM layers\n",
    "        self.lstm = nn.LSTM(\n",
    "            input_dim, hidden_dim, layer_dim, batch_first=True, dropout=dropout_prob\n",
    "        )\n",
    "\n",
    "        # Fully connected layer\n",
    "        self.fc = nn.Linear(hidden_dim, output_dim)\n",
    "\n",
    "    def forward(self, x):\n",
    "        \"\"\"The forward method takes input tensor x and does forward propagation\n",
    "\n",
    "        Args:\n",
    "            x (torch.Tensor): The input tensor of the shape (batch size, sequence length, input_dim)\n",
    "\n",
    "        Returns:\n",
    "            torch.Tensor: The output tensor of the shape (batch size, output_dim)\n",
    "\n",
    "        \"\"\"\n",
    "        # Create additional input dimension\n",
    "        # x is of shape (N, L)\n",
    "        x = x[...,None] # (N, L, Hin = 1)\n",
    "\n",
    "        # Initializing hidden state for first input with zeros\n",
    "        h0 = torch.zeros(self.layer_dim, x.size(0), self.hidden_dim,device=x.device).requires_grad_()\n",
    "\n",
    "        # Initializing cell state for first input with zeros\n",
    "        c0 = torch.zeros(self.layer_dim, x.size(0), self.hidden_dim,device=x.device).requires_grad_()\n",
    "\n",
    "        # We need to detach as we are doing truncated backpropagation through time (BPTT)\n",
    "        # If we don't, we'll backprop all the way to the start even after going through another batch\n",
    "        # Forward propagation by passing in the input, hidden state, and cell state into the model\n",
    "        out, (hn, cn) = self.lstm(x, (h0.detach(), c0.detach()))\n",
    "\n",
    "        # Reshaping the outputs in the shape of (batch_size, seq_length, hidden_size)\n",
    "        # so that it can fit into the fully connected layer\n",
    "        out = out[:, -1, :]\n",
    "\n",
    "        # Convert the final state to our desired output shape (batch_size, output_dim)\n",
    "        out = self.fc(out)\n",
    "\n",
    "        return out"
   ]
  },
  {
   "cell_type": "code",
   "execution_count": 82,
   "metadata": {},
   "outputs": [],
   "source": [
    "#model = Mlp(Tin, 500, Tout)\n",
    "model = LSTMModel(1, 50, 2, Tout, 0.2)\n",
    "optimizer = optim.Adam(model.parameters())\n",
    "train_losses, val_losses = [], []"
   ]
  },
  {
   "cell_type": "code",
   "execution_count": 83,
   "metadata": {},
   "outputs": [
    {
     "name": "stderr",
     "output_type": "stream",
     "text": [
      "  0%|          | 0/100 [00:00<?, ?it/s]"
     ]
    },
    {
     "name": "stderr",
     "output_type": "stream",
     "text": [
      "100%|██████████| 100/100 [01:25<00:00,  1.17it/s]\n"
     ]
    },
    {
     "data": {
      "image/png": "[encoded data removed]",
      "text/plain": [
       "<Figure size 640x480 with 1 Axes>"
      ]
     },
     "metadata": {},
     "output_type": "display_data"
    }
   ],
   "source": [
    "for epoch in trange(100):\n",
    "  # get training samples\n",
    "  batch_idx = torch.randint(1, (32,))\n",
    "  x, y = xtr[batch_idx, 0], ytr[batch_idx, 0]\n",
    "\n",
    "  # optimize on batch\n",
    "  model.train()\n",
    "  y_pred = model(x)\n",
    "  loss = F.mse_loss(y_pred, y)\n",
    "  loss.backward()\n",
    "  optimizer.step()\n",
    "  train_losses += [[epoch, loss.item()]]\n",
    "\n",
    "  if epoch % 10 != 0:\n",
    "    continue\n",
    "\n",
    "  # evaluate on validation set\n",
    "  model.eval()\n",
    "  with torch.no_grad():\n",
    "    y_pred = model(xval[:,0,...])\n",
    "    val_rmse = np.sqrt(F.mse_loss(y_pred, yval[:,0,...]))\n",
    "    val_losses += [[epoch, val_rmse.item()]]\n",
    "\n",
    "# plot losses\n",
    "train_losses, val_losses = np.array(train_losses), np.array(val_losses)\n",
    "plt.plot(train_losses[:,0], train_losses[:,1], label=\"training\")\n",
    "plt.plot(val_losses[:,0], val_losses[:,1], label=\"validation\")\n",
    "plt.legend();"
   ]
  },
  {
   "cell_type": "code",
   "execution_count": null,
   "metadata": {},
   "outputs": [],
   "source": []
  }
 ],
 "metadata": {
  "kernelspec": {
   "display_name": "ai4ei",
   "language": "python",
   "name": "python3"
  },
  "language_info": {
   "codemirror_mode": {
    "name": "ipython",
    "version": 3
   },
   "file_extension": ".py",
   "mimetype": "text/x-python",
   "name": "python",
   "nbconvert_exporter": "python",
   "pygments_lexer": "ipython3",
   "version": "3.11.5"
  }
 },
 "nbformat": 4,
 "nbformat_minor": 2
}

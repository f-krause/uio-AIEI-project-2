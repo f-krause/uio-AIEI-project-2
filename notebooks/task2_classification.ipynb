{
 "cells": [
  {
   "cell_type": "code",
   "execution_count": 1,
   "outputs": [],
   "source": [
    "import numpy as np\n",
    "import torch, torch.nn as nn, torch.nn.functional as F, torch.optim as optim"
   ],
   "metadata": {
    "collapsed": false,
    "ExecuteTime": {
     "end_time": "2023-11-02T12:22:02.323365200Z",
     "start_time": "2023-11-02T12:22:00.310782900Z"
    }
   }
  },
  {
   "cell_type": "code",
   "execution_count": 32,
   "outputs": [],
   "source": [
    "train, val, test, data = (np.load(\"../data/task2_%s.npz\" % f)\n",
    "                    for f in (\"train\", \"val\", \"test\", \"data\"))\n",
    "xtr, ytr, xval, yval, xte, yte, xdata, ydata = (\n",
    "  torch.from_numpy(arr).float()\n",
    "  for arr in (train[\"x\"], train[\"y\"], val[\"x\"], val[\"y\"], test[\"x\"], test[\"y\"], data[\"x\"], data[\"y\"])\n",
    ")\n",
    "\n",
    "# xtr has the format (num households, sequence length, input dim)"
   ],
   "metadata": {
    "collapsed": false,
    "ExecuteTime": {
     "end_time": "2023-11-02T13:27:49.759234700Z",
     "start_time": "2023-11-02T13:27:49.499855400Z"
    }
   }
  },
  {
   "cell_type": "code",
   "execution_count": 33,
   "outputs": [],
   "source": [
    "class LSTMClassifier(nn.Module):\n",
    "\n",
    "    def __init__(self, input_dim, hidden_dim, output_dim):\n",
    "        super(LSTMClassifier, self).__init__()\n",
    "        self.hidden_dim = hidden_dim\n",
    "\n",
    "\n",
    "        self.lstm = nn.LSTM(input_dim, hidden_dim)\n",
    "        self.fc = nn.Linear(hidden_dim, output_dim)\n",
    "\n",
    "    def forward(self, x):\n",
    "        lstm_out, _ = self.lstm(x.view(len(x), 1, -1))\n",
    "        out_space = self.fc(lstm_out.view(len(x), -1))\n",
    "        out_scores = F.log_softmax(out_space, dim=1)\n",
    "        return out_scores\n"
   ],
   "metadata": {
    "collapsed": false,
    "ExecuteTime": {
     "end_time": "2023-11-02T13:29:15.336746400Z",
     "start_time": "2023-11-02T13:29:15.336746400Z"
    }
   }
  },
  {
   "cell_type": "code",
   "execution_count": 83,
   "outputs": [],
   "source": [
    "class RNNClassifier(nn.Module):\n",
    "\n",
    "    def __init__(self, input_dim, hidden_dim, output_dim):\n",
    "        super(RNNClassifier, self).__init__()\n",
    "        self.hidden_dim = hidden_dim\n",
    "\n",
    "\n",
    "        self.rnn = nn.RNN(input_dim, hidden_dim)\n",
    "        self.fc = nn.Linear(hidden_dim, output_dim)\n",
    "\n",
    "    def forward(self, x):\n",
    "        lstm_out, _ = self.rnn(x.view(len(x), 1, -1))\n",
    "        out_space = self.fc(lstm_out.view(len(x), -1))\n",
    "        out_scores = F.log_softmax(out_space, dim=1)\n",
    "        return out_scores"
   ],
   "metadata": {
    "collapsed": false,
    "ExecuteTime": {
     "end_time": "2023-11-02T14:01:52.148371800Z",
     "start_time": "2023-11-02T14:01:52.147355600Z"
    }
   }
  },
  {
   "cell_type": "code",
   "execution_count": 88,
   "outputs": [
    {
     "name": "stdout",
     "output_type": "stream",
     "text": [
      "Epoch: 0, loss: 2.30090, acc: 0.12089\n",
      "Epoch: 100, loss: 1.86077, acc: 0.51199\n",
      "Epoch: 200, loss: 1.34201, acc: 0.60719\n"
     ]
    }
   ],
   "source": [
    "num_epochs = 300 #lstm= 1000 --> acc: 0.55, rnn= 300 --> acc: 0.40\n",
    "\n",
    "#model = LSTMClassifier(input_dim=96, hidden_dim=128, output_dim=10)\n",
    "model = RNNClassifier(input_dim=96, hidden_dim=128, output_dim=10)\n",
    "\n",
    "criterion = nn.CrossEntropyLoss()\n",
    "optimizer = optim.SGD(model.parameters(), lr=0.3)\n",
    "\n",
    "x = xtr[0]\n",
    "x = x[..., None]\n",
    "y = ytr[0]\n",
    "y = y.long()\n",
    "\n",
    "# Train the model\n",
    "for epoch in range(num_epochs):\n",
    "    model.zero_grad()\n",
    "    output_scores = model(x)\n",
    "    loss = criterion(output_scores, y)\n",
    "    loss.backward()\n",
    "    optimizer.step()\n",
    "\n",
    "    predicted_labels = output_scores.argmax(dim=1)\n",
    "    correct = 0\n",
    "    for i in range(len(predicted_labels)):\n",
    "        if predicted_labels[i] == y[i]:\n",
    "            correct += 1\n",
    "\n",
    "    if epoch % 100 == 0:\n",
    "      print(\"Epoch: %d, loss: %1.5f, acc: %1.5f\" % (epoch, loss.item(), correct/len(predicted_labels)))"
   ],
   "metadata": {
    "collapsed": false,
    "ExecuteTime": {
     "end_time": "2023-11-02T14:13:37.618911600Z",
     "start_time": "2023-11-02T14:11:50.891434300Z"
    }
   }
  },
  {
   "cell_type": "code",
   "execution_count": 89,
   "outputs": [
    {
     "name": "stdout",
     "output_type": "stream",
     "text": [
      "accuracy:  0.4054794520547945\n"
     ]
    }
   ],
   "source": [
    "x = xte[0]\n",
    "x = x[..., None]\n",
    "y = yte[0].long()\n",
    "\n",
    "with torch.no_grad():\n",
    "    output_scores = model(x)\n",
    "    predicted_labels = output_scores.argmax(dim=1)\n",
    "\n",
    "correct = 0\n",
    "for i in range(len(predicted_labels)):\n",
    "    if predicted_labels[i] == y[i]:\n",
    "        correct += 1\n",
    "\n",
    "print(\"accuracy: \", correct/len(predicted_labels))\n"
   ],
   "metadata": {
    "collapsed": false,
    "ExecuteTime": {
     "end_time": "2023-11-02T14:13:41.260902600Z",
     "start_time": "2023-11-02T14:13:41.248399200Z"
    }
   }
  }
 ],
 "metadata": {
  "kernelspec": {
   "display_name": "Python 3",
   "language": "python",
   "name": "python3"
  },
  "language_info": {
   "codemirror_mode": {
    "name": "ipython",
    "version": 2
   },
   "file_extension": ".py",
   "mimetype": "text/x-python",
   "name": "python",
   "nbconvert_exporter": "python",
   "pygments_lexer": "ipython2",
   "version": "2.7.6"
  }
 },
 "nbformat": 4,
 "nbformat_minor": 0
}

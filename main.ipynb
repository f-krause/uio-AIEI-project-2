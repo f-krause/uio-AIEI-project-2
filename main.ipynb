{
 "cells": [
  {
   "cell_type": "markdown",
   "source": [
    "# Main file for executions"
   ],
   "metadata": {
    "collapsed": false
   }
  },
  {
   "cell_type": "code",
   "execution_count": 1,
   "outputs": [],
   "source": [
    "from src.load_data import get_data\n",
    "from src.train import FederatedLearning\n",
    "from src.config import Config, load_train_config"
   ],
   "metadata": {
    "collapsed": false,
    "ExecuteTime": {
     "end_time": "2023-11-03T21:10:25.817836600Z",
     "start_time": "2023-11-03T21:10:21.946323500Z"
    }
   }
  },
  {
   "cell_type": "markdown",
   "source": [
    "## Specify parameters"
   ],
   "metadata": {
    "collapsed": false
   }
  },
  {
   "cell_type": "markdown",
   "source": [
    "### Manually set config"
   ],
   "metadata": {
    "collapsed": false
   }
  },
  {
   "cell_type": "code",
   "execution_count": 17,
   "metadata": {
    "collapsed": true,
    "ExecuteTime": {
     "end_time": "2023-11-03T21:19:18.490952600Z",
     "start_time": "2023-11-03T21:19:18.460450600Z"
    }
   },
   "outputs": [],
   "source": [
    "kwargs = {\n",
    "    # Main mode\n",
    "    \"mode\": \"prediction\",  # prediction or classification\n",
    "\n",
    "    # Model config\n",
    "    \"model\": \"RNN\",  # LSTM or RNN\n",
    "    \"input_dim\": 96,\n",
    "    \"hidden_dim\": 128,\n",
    "    \"output_dim\": 10,\n",
    "    \"num_layers\": 1,\n",
    "    \"dropout\": 0.0,\n",
    "\n",
    "    # Training config\n",
    "    \"epochs\": 300,\n",
    "    \"lr\": 0.3,\n",
    "    \"batch_size\": 128\n",
    "}\n",
    "\n",
    "config = Config(**kwargs)"
   ]
  },
  {
   "cell_type": "code",
   "execution_count": 18,
   "outputs": [
    {
     "name": "stdout",
     "output_type": "stream",
     "text": [
      "Config saved in: config/config_default_pred_rnn.json\n"
     ]
    }
   ],
   "source": [
    "# Save config\n",
    "# config.save(\"default_pred_rnn\")"
   ],
   "metadata": {
    "collapsed": false,
    "ExecuteTime": {
     "end_time": "2023-11-03T21:19:35.223896100Z",
     "start_time": "2023-11-03T21:19:35.207988500Z"
    }
   }
  },
  {
   "cell_type": "markdown",
   "source": [
    "### Load saved config"
   ],
   "metadata": {
    "collapsed": false
   }
  },
  {
   "cell_type": "code",
   "execution_count": 13,
   "outputs": [],
   "source": [
    "config = load_train_config(\"config_default_pred_rnn\")"
   ],
   "metadata": {
    "collapsed": false,
    "ExecuteTime": {
     "end_time": "2023-11-03T21:13:41.665792100Z",
     "start_time": "2023-11-03T21:13:41.641658100Z"
    }
   }
  },
  {
   "cell_type": "markdown",
   "source": [
    "## Run training"
   ],
   "metadata": {
    "collapsed": false
   }
  },
  {
   "cell_type": "code",
   "execution_count": 15,
   "outputs": [
    {
     "name": "stdout",
     "output_type": "stream",
     "text": [
      "Epoch: 0,  train loss: 107.22967, val loss: 652.83795\n",
      "Epoch: 100,  train loss: 22.67943, val loss: 102.27432\n",
      "Epoch: 200,  train loss: 20.58891, val loss: 58.75536\n",
      "Epoch: 300,  train loss: 17.90194, val loss: 51.56731\n",
      "Epoch: 400,  train loss: 14.63963, val loss: 49.66328\n",
      "Epoch: 500,  train loss: 24.28867, val loss: 48.85255\n",
      "Epoch: 600,  train loss: 15.47481, val loss: 49.32909\n",
      "Epoch: 700,  train loss: 20.39766, val loss: 48.87129\n",
      "Epoch: 800,  train loss: 17.03101, val loss: 49.46268\n",
      "Epoch: 900,  train loss: 22.90570, val loss: 48.80501\n",
      "Needed 1.6700915257136026 minutes for training\n"
     ]
    }
   ],
   "source": [
    "x_train, x_val, x_test, y_train, y_val, y_test = get_data(config)\n",
    "fl = FederatedLearning(config)\n",
    "fl.train(x_train, y_train, x_val, y_val)"
   ],
   "metadata": {
    "collapsed": false,
    "ExecuteTime": {
     "end_time": "2023-11-03T21:16:07.130626300Z",
     "start_time": "2023-11-03T21:14:26.888566600Z"
    }
   }
  },
  {
   "cell_type": "code",
   "execution_count": 16,
   "outputs": [
    {
     "data": {
      "text/plain": "<Figure size 432x288 with 1 Axes>",
      "image/png": "[encoded data removed]"
     },
     "metadata": {
      "needs_background": "light"
     },
     "output_type": "display_data"
    }
   ],
   "source": [
    "fl.plot_training_loss()"
   ],
   "metadata": {
    "collapsed": false,
    "ExecuteTime": {
     "end_time": "2023-11-03T21:18:49.326588500Z",
     "start_time": "2023-11-03T21:18:49.145118800Z"
    }
   }
  },
  {
   "cell_type": "markdown",
   "source": [
    "## Evaluation"
   ],
   "metadata": {
    "collapsed": false
   }
  },
  {
   "cell_type": "code",
   "execution_count": null,
   "outputs": [],
   "source": [
    "# fl.evaluate()  # TODO"
   ],
   "metadata": {
    "collapsed": false
   }
  }
 ],
 "metadata": {
  "kernelspec": {
   "display_name": "Python 3",
   "language": "python",
   "name": "python3"
  },
  "language_info": {
   "codemirror_mode": {
    "name": "ipython",
    "version": 2
   },
   "file_extension": ".py",
   "mimetype": "text/x-python",
   "name": "python",
   "nbconvert_exporter": "python",
   "pygments_lexer": "ipython2",
   "version": "2.7.6"
  }
 },
 "nbformat": 4,
 "nbformat_minor": 0
}

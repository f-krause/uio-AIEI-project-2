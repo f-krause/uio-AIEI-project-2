{
 "cells": [
  {
   "cell_type": "code",
   "execution_count": 2,
   "metadata": {
    "ExecuteTime": {
     "end_time": "2023-10-27T13:06:46.536441600Z",
     "start_time": "2023-10-27T13:06:44.222909900Z"
    }
   },
   "outputs": [],
   "source": [
    "import pandas as pd, numpy as np\n",
    "from tqdm import tqdm\n",
    "from sklearn.model_selection import train_test_split"
   ]
  },
  {
   "cell_type": "code",
   "execution_count": 3,
   "metadata": {
    "ExecuteTime": {
     "end_time": "2023-10-27T13:06:48.900827700Z",
     "start_time": "2023-10-27T13:06:47.653846600Z"
    }
   },
   "outputs": [],
   "source": [
    "# NB: this requires openpyxl to be installed\n",
    "xl = pd.ExcelFile(\"/data/Dataset.xlsx\")\n",
    "# extract sheets that start with consumer\n",
    "consumer_sheets = [name for name in xl.sheet_names\n",
    "                   if name.startswith(\"Consumer\")]\n",
    "# TODO: take all consumer sheets, not only the first 10 (= delete next line)\n",
    "#consumer_sheets = consumer_sheets[:20]"
   ]
  },
  {
   "cell_type": "markdown",
   "metadata": {},
   "source": [
    "### Creation of dataset for task 1"
   ]
  },
  {
   "cell_type": "code",
   "execution_count": 4,
   "outputs": [
    {
     "name": "stderr",
     "output_type": "stream",
     "text": [
      "100%|██████████| 50/50 [04:18<00:00,  5.16s/it]\n"
     ]
    }
   ],
   "source": [
    "# mapping consumer to DataFrame containing tabular data\n",
    "cons2df = {name: xl.parse(name).drop(columns=[\"Unnamed: 0\",\"Total Consumption\"])\n",
    "           for name in tqdm(consumer_sheets)}"
   ],
   "metadata": {
    "collapsed": false,
    "ExecuteTime": {
     "end_time": "2023-10-27T13:11:08.652182300Z",
     "start_time": "2023-10-27T13:06:50.548935300Z"
    }
   }
  },
  {
   "cell_type": "code",
   "execution_count": 6,
   "metadata": {
    "ExecuteTime": {
     "end_time": "2023-10-27T13:30:36.252345200Z",
     "start_time": "2023-10-27T13:30:35.664948400Z"
    }
   },
   "outputs": [
    {
     "name": "stdout",
     "output_type": "stream",
     "text": [
      "['AC', 'Dish washer', 'Washing Machine', 'Dryer', 'Water heater', 'TV', 'Microwave', 'Kettle', 'Lighting', 'Refrigerator', 'Total Consumption']\n"
     ]
    },
    {
     "data": {
      "text/plain": "       Periods  AC  Dish washer  Washing Machine  Dryer  Water heater  \\\n0            1   0          0.0              0.0    0.0         0.000   \n1            2   0          0.0              0.0    0.0         0.000   \n2            3   0          0.0              0.0    0.0         0.000   \n3            4   0          0.0              0.0    0.0         0.000   \n4            5   0          0.0              0.0    0.0         0.000   \n...        ...  ..          ...              ...    ...           ...   \n35131       92   0          0.0              0.0    0.0         0.346   \n35132       93   0          0.0              0.0    0.0         0.207   \n35133       94   0          0.0              0.0    0.0         0.373   \n35134       95   0          0.0              0.0    0.0         0.079   \n35135       96   0          0.0              0.0    0.0         0.000   \n\n             TV  Microwave  Kettle  Lighting  Refrigerator  Total Consumption  \n0      0.000000        0.0     0.0  0.000000           0.0           0.000000  \n1      0.000000        0.0     0.0  0.000000           0.0           0.000000  \n2      0.000000        0.0     0.0  0.000000           0.0           0.000000  \n3      0.000000        0.0     0.0  0.000000           0.0           0.000000  \n4      0.000000        0.0     0.0  0.000000           0.0           0.000000  \n...         ...        ...     ...       ...           ...                ...  \n35131  0.046792        0.0     0.0  0.219333           0.0           1.224251  \n35132  0.047054        0.0     0.0  0.217667           0.0           0.943441  \n35133  0.046454        0.0     0.0  0.218667           0.0           1.276241  \n35134  0.000000        0.0     0.0  0.063333           0.0           0.284667  \n35135  0.000000        0.0     0.0  0.000000           0.0           0.000000  \n\n[35136 rows x 12 columns]",
      "text/html": "<div>\n<style scoped>\n    .dataframe tbody tr th:only-of-type {\n        vertical-align: middle;\n    }\n\n    .dataframe tbody tr th {\n        vertical-align: top;\n    }\n\n    .dataframe thead th {\n        text-align: right;\n    }\n</style>\n<table border=\"1\" class=\"dataframe\">\n  <thead>\n    <tr style=\"text-align: right;\">\n      <th></th>\n      <th>Periods</th>\n      <th>AC</th>\n      <th>Dish washer</th>\n      <th>Washing Machine</th>\n      <th>Dryer</th>\n      <th>Water heater</th>\n      <th>TV</th>\n      <th>Microwave</th>\n      <th>Kettle</th>\n      <th>Lighting</th>\n      <th>Refrigerator</th>\n      <th>Total Consumption</th>\n    </tr>\n  </thead>\n  <tbody>\n    <tr>\n      <th>0</th>\n      <td>1</td>\n      <td>0</td>\n      <td>0.0</td>\n      <td>0.0</td>\n      <td>0.0</td>\n      <td>0.000</td>\n      <td>0.000000</td>\n      <td>0.0</td>\n      <td>0.0</td>\n      <td>0.000000</td>\n      <td>0.0</td>\n      <td>0.000000</td>\n    </tr>\n    <tr>\n      <th>1</th>\n      <td>2</td>\n      <td>0</td>\n      <td>0.0</td>\n      <td>0.0</td>\n      <td>0.0</td>\n      <td>0.000</td>\n      <td>0.000000</td>\n      <td>0.0</td>\n      <td>0.0</td>\n      <td>0.000000</td>\n      <td>0.0</td>\n      <td>0.000000</td>\n    </tr>\n    <tr>\n      <th>2</th>\n      <td>3</td>\n      <td>0</td>\n      <td>0.0</td>\n      <td>0.0</td>\n      <td>0.0</td>\n      <td>0.000</td>\n      <td>0.000000</td>\n      <td>0.0</td>\n      <td>0.0</td>\n      <td>0.000000</td>\n      <td>0.0</td>\n      <td>0.000000</td>\n    </tr>\n    <tr>\n      <th>3</th>\n      <td>4</td>\n      <td>0</td>\n      <td>0.0</td>\n      <td>0.0</td>\n      <td>0.0</td>\n      <td>0.000</td>\n      <td>0.000000</td>\n      <td>0.0</td>\n      <td>0.0</td>\n      <td>0.000000</td>\n      <td>0.0</td>\n      <td>0.000000</td>\n    </tr>\n    <tr>\n      <th>4</th>\n      <td>5</td>\n      <td>0</td>\n      <td>0.0</td>\n      <td>0.0</td>\n      <td>0.0</td>\n      <td>0.000</td>\n      <td>0.000000</td>\n      <td>0.0</td>\n      <td>0.0</td>\n      <td>0.000000</td>\n      <td>0.0</td>\n      <td>0.000000</td>\n    </tr>\n    <tr>\n      <th>...</th>\n      <td>...</td>\n      <td>...</td>\n      <td>...</td>\n      <td>...</td>\n      <td>...</td>\n      <td>...</td>\n      <td>...</td>\n      <td>...</td>\n      <td>...</td>\n      <td>...</td>\n      <td>...</td>\n      <td>...</td>\n    </tr>\n    <tr>\n      <th>35131</th>\n      <td>92</td>\n      <td>0</td>\n      <td>0.0</td>\n      <td>0.0</td>\n      <td>0.0</td>\n      <td>0.346</td>\n      <td>0.046792</td>\n      <td>0.0</td>\n      <td>0.0</td>\n      <td>0.219333</td>\n      <td>0.0</td>\n      <td>1.224251</td>\n    </tr>\n    <tr>\n      <th>35132</th>\n      <td>93</td>\n      <td>0</td>\n      <td>0.0</td>\n      <td>0.0</td>\n      <td>0.0</td>\n      <td>0.207</td>\n      <td>0.047054</td>\n      <td>0.0</td>\n      <td>0.0</td>\n      <td>0.217667</td>\n      <td>0.0</td>\n      <td>0.943441</td>\n    </tr>\n    <tr>\n      <th>35133</th>\n      <td>94</td>\n      <td>0</td>\n      <td>0.0</td>\n      <td>0.0</td>\n      <td>0.0</td>\n      <td>0.373</td>\n      <td>0.046454</td>\n      <td>0.0</td>\n      <td>0.0</td>\n      <td>0.218667</td>\n      <td>0.0</td>\n      <td>1.276241</td>\n    </tr>\n    <tr>\n      <th>35134</th>\n      <td>95</td>\n      <td>0</td>\n      <td>0.0</td>\n      <td>0.0</td>\n      <td>0.0</td>\n      <td>0.079</td>\n      <td>0.000000</td>\n      <td>0.0</td>\n      <td>0.0</td>\n      <td>0.063333</td>\n      <td>0.0</td>\n      <td>0.284667</td>\n    </tr>\n    <tr>\n      <th>35135</th>\n      <td>96</td>\n      <td>0</td>\n      <td>0.0</td>\n      <td>0.0</td>\n      <td>0.0</td>\n      <td>0.000</td>\n      <td>0.000000</td>\n      <td>0.0</td>\n      <td>0.0</td>\n      <td>0.000000</td>\n      <td>0.0</td>\n      <td>0.000000</td>\n    </tr>\n  </tbody>\n</table>\n<p>35136 rows × 12 columns</p>\n</div>"
     },
     "execution_count": 6,
     "metadata": {},
     "output_type": "execute_result"
    }
   ],
   "source": [
    "# sum over all columns that are not Periods (which is at index 0)\n",
    "sum_cols = cons2df[\"Consumer1\"].columns[1:].tolist()\n",
    "print(sum_cols)\n",
    "for name, df in cons2df.items():\n",
    "    df[\"Total Consumption\"] = df[sum_cols].sum(axis=1)"
   ]
  },
  {
   "cell_type": "code",
   "execution_count": 25,
   "metadata": {
    "ExecuteTime": {
     "end_time": "2023-10-27T10:11:59.205713600Z",
     "start_time": "2023-10-27T10:11:57.377371500Z"
    }
   },
   "outputs": [
    {
     "data": {
      "text/plain": "((359, 50, 7), (359, 50))"
     },
     "execution_count": 25,
     "metadata": {},
     "output_type": "execute_result"
    }
   ],
   "source": [
    "# constants based on 15min intervals\n",
    "day_length = 4 * 24\n",
    "week_window = day_length * 7\n",
    "\n",
    "# iterate over DataFrames and extract x = week -> y = next day pairs\n",
    "xs, ys = [], []\n",
    "for df in cons2df.values():\n",
    "  # extract the total consumption data from the dataset\n",
    "  data = df[\"Total Consumption\"].values\n",
    "\n",
    "  # obtain start and end values of the window\n",
    "  # NB: the window end includes the day to be predicted\n",
    "  starts = np.arange(0, len(data) - week_window - day_length + 1, day_length)\n",
    "  ends = starts + week_window + day_length # end includes the day to predict\n",
    "  cons_xs, cons_ys = [], [] # save data for this consumer\n",
    "  for start, end in zip(starts, ends):\n",
    "    # extract the 8-day window from the dataset\n",
    "    window = data[start:end]\n",
    "    # split the window in week data and the day to predict\n",
    "    x, y = window[:-day_length], window[-day_length:]\n",
    "    # put the samples in the dataset\n",
    "    x_days = 0\n",
    "    # get the consumption per day\n",
    "    week = []\n",
    "    for i in range(0, len(x), day_length):\n",
    "      values = x[i:i+day_length]\n",
    "      week.append(sum(values))\n",
    "    cons_xs.append(week)\n",
    "    cons_ys.append(sum(y))\n",
    "  assert end == len(data) # ensure that we covered all of the input data\n",
    "  xs.append(np.stack(cons_xs))\n",
    "  ys.append(np.stack(cons_ys))\n",
    "# create length dimension\n",
    "xs, ys = np.stack(xs), np.stack(ys)\n",
    "# swap day (=N) and household dimensions such that we can sample days for\n",
    "# dataset creation\n",
    "xs = xs.transpose(1, 0, 2)\n",
    "ys = ys.transpose(1, 0)\n",
    "xs.shape, ys.shape"
   ]
  },
  {
   "cell_type": "code",
   "execution_count": 26,
   "metadata": {
    "ExecuteTime": {
     "end_time": "2023-10-27T10:12:04.237935500Z",
     "start_time": "2023-10-27T10:12:04.223993300Z"
    }
   },
   "outputs": [],
   "source": [
    "# generate train/validation/test splits with 80/10/10 ratio\n",
    "xtr, xvalte, ytr, yvalte = train_test_split(xs, ys, test_size=.2, shuffle=False)\n",
    "xval, xte, yval, yte = train_test_split(xvalte, yvalte, test_size=.5, shuffle=False)\n",
    "xtr = xtr.transpose(1, 0, 2)\n",
    "ytr = ytr.transpose(1, 0)\n",
    "xval = xval.transpose(1, 0, 2)\n",
    "yval = yval.transpose(1, 0)\n",
    "xte = xte.transpose(1, 0, 2)\n",
    "yte = yte.transpose(1, 0)\n",
    "xs = xs.transpose(1, 0, 2)\n",
    "ys = ys.transpose(1, 0)"
   ]
  },
  {
   "cell_type": "code",
   "execution_count": 27,
   "outputs": [],
   "source": [
    "np.savez(\"/data/task1_train\", x=xtr, y=ytr)\n",
    "np.savez(\"/data/task1_val\", x=xval, y=yval)\n",
    "np.savez(\"/data/task1_test\", x=xte, y=yte)\n",
    "np.savez(\"/data/task1_data\", x=xs, y=ys)"
   ],
   "metadata": {
    "collapsed": false,
    "ExecuteTime": {
     "end_time": "2023-10-27T10:12:06.259748700Z",
     "start_time": "2023-10-27T10:12:06.248580500Z"
    }
   }
  },
  {
   "cell_type": "markdown",
   "source": [
    "### Creation of dataset for task 2"
   ],
   "metadata": {
    "collapsed": false
   }
  },
  {
   "cell_type": "code",
   "execution_count": 9,
   "outputs": [
    {
     "name": "stderr",
     "output_type": "stream",
     "text": [
      "100%|██████████| 50/50 [04:26<00:00,  5.32s/it]\n"
     ]
    }
   ],
   "source": [
    "cons2df = {name: xl.parse(name).drop(columns=[\"Unnamed: 0\",\"Periods\",\"Total Consumption\"])\n",
    "           for name in tqdm(consumer_sheets)}"
   ],
   "metadata": {
    "collapsed": false,
    "ExecuteTime": {
     "end_time": "2023-10-27T14:05:14.526978Z",
     "start_time": "2023-10-27T14:00:48.381344900Z"
    }
   }
  },
  {
   "cell_type": "code",
   "execution_count": 19,
   "outputs": [
    {
     "data": {
      "text/plain": "array([0., 0., 0., 0., 0., 0., 0., 0., 0., 0., 0., 0., 0., 0., 0., 0., 0.,\n       0., 0., 0., 0., 0., 0., 0., 0., 0., 0., 0., 0., 0., 0., 0., 0., 0.,\n       0., 0., 0., 0., 0., 0., 0., 0., 0., 0., 0., 0., 0., 0., 0., 0., 0.,\n       0., 0., 0., 0., 0., 0., 0., 0., 0., 0., 0., 0., 0., 0., 0., 0., 0.,\n       0., 0., 0., 0., 0., 0., 0., 0., 0., 0., 0., 0., 0., 0., 0., 0., 0.,\n       0., 0., 0., 0., 0., 0., 0., 0., 0., 0., 0.])"
     },
     "execution_count": 19,
     "metadata": {},
     "output_type": "execute_result"
    }
   ],
   "source": [
    "# constants based on 15min intervals\n",
    "day_length = 4 * 24\n",
    "mapping = {'AC': 0, 'Dish washer': 1, 'Washing Machine': 2, 'Dryer': 3, 'Water heater': 4, 'TV': 5, 'Microwave': 6, 'Kettle': 7, 'Lighting': 8, 'Refrigerator': 9}\n",
    "\n",
    "# iterate over DataFrames and extract x = week -> y = next day pairs\n",
    "xs, ys = [], []\n",
    "for df in cons2df.values():\n",
    "    cons_xs = []\n",
    "    cons_ys = []\n",
    "    for (appliance, data) in df.items():\n",
    "        day_consumption = []\n",
    "        count = 0\n",
    "        for i in range(len(data)):\n",
    "            if count == day_length:\n",
    "                cons_xs.append(day_consumption)\n",
    "                cons_ys.append(mapping[appliance])\n",
    "                day_consumption = []\n",
    "                count = 0\n",
    "            day_consumption.append(data[i])\n",
    "            count += 1\n",
    "    xs.append(np.stack(cons_xs))\n",
    "    ys.append(np.stack(cons_ys))\n",
    "# create length dimension\n",
    "xs, ys = np.stack(xs), np.stack(ys)\n",
    "# swap day (=N) and household dimensions such that we can sample days for\n",
    "# dataset creation\n",
    "xs = xs.transpose(1, 0, 2)\n",
    "ys = ys.transpose(1, 0)\n",
    "xs.shape, ys.shape\n",
    "xs[0][0]"
   ],
   "metadata": {
    "collapsed": false,
    "ExecuteTime": {
     "end_time": "2023-10-27T14:35:33.923630500Z",
     "start_time": "2023-10-27T14:34:52.936701900Z"
    }
   }
  },
  {
   "cell_type": "code",
   "execution_count": 23,
   "outputs": [],
   "source": [
    "# generate train/validation/test splits with 80/10/10 ratio\n",
    "xtr, xvalte, ytr, yvalte = train_test_split(xs, ys, test_size=.2, shuffle=True)\n",
    "xval, xte, yval, yte = train_test_split(xvalte, yvalte, test_size=.5, shuffle=True)\n",
    "xtr = xtr.transpose(1, 0, 2)\n",
    "ytr = ytr.transpose(1, 0)\n",
    "xval = xval.transpose(1, 0, 2)\n",
    "yval = yval.transpose(1, 0)\n",
    "xte = xte.transpose(1, 0, 2)\n",
    "yte = yte.transpose(1, 0)\n",
    "xs = xs.transpose(1, 0, 2)\n",
    "ys = ys.transpose(1, 0)"
   ],
   "metadata": {
    "collapsed": false,
    "ExecuteTime": {
     "end_time": "2023-10-27T14:46:02.860681200Z",
     "start_time": "2023-10-27T14:46:02.729888400Z"
    }
   }
  },
  {
   "cell_type": "code",
   "execution_count": 24,
   "outputs": [],
   "source": [
    "np.savez(\"/data/task2_train\", x=xtr, y=ytr)\n",
    "np.savez(\"/data/task2_val\", x=xval, y=yval)\n",
    "np.savez(\"/data/task2_test\", x=xte, y=yte)\n",
    "np.savez(\"/data/task2_data\", x=xs, y=ys)"
   ],
   "metadata": {
    "collapsed": false,
    "ExecuteTime": {
     "end_time": "2023-10-27T14:46:05.021688400Z",
     "start_time": "2023-10-27T14:46:04.227028Z"
    }
   }
  }
 ],
 "metadata": {
  "kernelspec": {
   "display_name": "ai4ei",
   "language": "python",
   "name": "python3"
  },
  "language_info": {
   "codemirror_mode": {
    "name": "ipython",
    "version": 3
   },
   "file_extension": ".py",
   "mimetype": "text/x-python",
   "name": "python",
   "nbconvert_exporter": "python",
   "pygments_lexer": "ipython3",
   "version": "3.11.5"
  }
 },
 "nbformat": 4,
 "nbformat_minor": 2
}
